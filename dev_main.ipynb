{
 "cells": [
  {
   "cell_type": "code",
   "execution_count": 2,
   "metadata": {},
   "outputs": [
    {
     "ename": "ImportError",
     "evalue": "cannot import name '_gev' from 'pycrostates.utils' (c:\\Users\\Victor\\Documents\\GitHub\\pycrostates\\pycrostates\\utils\\__init__.py)",
     "output_type": "error",
     "traceback": [
      "\u001b[1;31m---------------------------------------------------------------------------\u001b[0m",
      "\u001b[1;31mImportError\u001b[0m                               Traceback (most recent call last)",
      "Cell \u001b[1;32mIn[2], line 4\u001b[0m\n\u001b[0;32m      1\u001b[0m \u001b[38;5;28;01mimport\u001b[39;00m \u001b[38;5;21;01mmne\u001b[39;00m\n\u001b[0;32m      2\u001b[0m \u001b[38;5;28;01mfrom\u001b[39;00m \u001b[38;5;21;01mmne\u001b[39;00m\u001b[38;5;21;01m.\u001b[39;00m\u001b[38;5;21;01mio\u001b[39;00m \u001b[38;5;28;01mimport\u001b[39;00m read_raw_eeglab\n\u001b[1;32m----> 4\u001b[0m \u001b[38;5;28;01mfrom\u001b[39;00m \u001b[38;5;21;01mpycrostates\u001b[39;00m\u001b[38;5;21;01m.\u001b[39;00m\u001b[38;5;21;01mcluster\u001b[39;00m \u001b[38;5;28;01mimport\u001b[39;00m ModKMeans\n\u001b[0;32m      5\u001b[0m \u001b[38;5;28;01mfrom\u001b[39;00m \u001b[38;5;21;01mpycrostates\u001b[39;00m\u001b[38;5;21;01m.\u001b[39;00m\u001b[38;5;21;01mdatasets\u001b[39;00m \u001b[38;5;28;01mimport\u001b[39;00m lemon\n\u001b[0;32m      8\u001b[0m \u001b[38;5;66;03m# load sample dataset\u001b[39;00m\n",
      "File \u001b[1;32mc:\\Users\\Victor\\Documents\\GitHub\\pycrostates\\pycrostates\\__init__.py:3\u001b[0m\n\u001b[0;32m      1\u001b[0m \u001b[38;5;124;03m\"\"\"Pycrostates.\"\"\"\u001b[39;00m\n\u001b[1;32m----> 3\u001b[0m \u001b[38;5;28;01mfrom\u001b[39;00m \u001b[38;5;21;01m.\u001b[39;00m \u001b[38;5;28;01mimport\u001b[39;00m cluster, datasets, io, metrics, preprocessing, utils, viz\n\u001b[0;32m      4\u001b[0m \u001b[38;5;28;01mfrom\u001b[39;00m \u001b[38;5;21;01m.\u001b[39;00m\u001b[38;5;21;01m_version\u001b[39;00m \u001b[38;5;28;01mimport\u001b[39;00m __version__  \u001b[38;5;66;03m# noqa: F401\u001b[39;00m\n\u001b[0;32m      5\u001b[0m \u001b[38;5;28;01mfrom\u001b[39;00m \u001b[38;5;21;01m.\u001b[39;00m\u001b[38;5;21;01mutils\u001b[39;00m\u001b[38;5;21;01m.\u001b[39;00m\u001b[38;5;21;01m_logs\u001b[39;00m \u001b[38;5;28;01mimport\u001b[39;00m set_log_level\n",
      "File \u001b[1;32mc:\\Users\\Victor\\Documents\\GitHub\\pycrostates\\pycrostates\\cluster\\__init__.py:18\u001b[0m\n\u001b[0;32m      1\u001b[0m \u001b[38;5;124;03m\"\"\"This module contains the clustering algorithms supported by ``pycrostates``.\u001b[39;00m\n\u001b[0;32m      2\u001b[0m \u001b[38;5;124;03mEach clustering algorithm is defined as a class with specific initialization\u001b[39;00m\n\u001b[0;32m      3\u001b[0m \u001b[38;5;124;03mparameters, a ``fit`` method and a ``predict`` method.\u001b[39;00m\n\u001b[1;32m   (...)\u001b[0m\n\u001b[0;32m     14\u001b[0m \u001b[38;5;124;03m:class:`~pycrostates.segmentation.EpochsSegmentation` depending on the dataset\u001b[39;00m\n\u001b[0;32m     15\u001b[0m \u001b[38;5;124;03mto segment.\"\"\"\u001b[39;00m\n\u001b[0;32m     17\u001b[0m \u001b[38;5;28;01mfrom\u001b[39;00m \u001b[38;5;21;01m.\u001b[39;00m \u001b[38;5;28;01mimport\u001b[39;00m utils  \u001b[38;5;66;03m# noqa: F401\u001b[39;00m\n\u001b[1;32m---> 18\u001b[0m \u001b[38;5;28;01mfrom\u001b[39;00m \u001b[38;5;21;01m.\u001b[39;00m\u001b[38;5;21;01maahc\u001b[39;00m \u001b[38;5;28;01mimport\u001b[39;00m AAHCluster  \u001b[38;5;66;03m# noqa: F401\u001b[39;00m\n\u001b[0;32m     19\u001b[0m \u001b[38;5;28;01mfrom\u001b[39;00m \u001b[38;5;21;01m.\u001b[39;00m\u001b[38;5;21;01mkmeans\u001b[39;00m \u001b[38;5;28;01mimport\u001b[39;00m ModKMeans  \u001b[38;5;66;03m# noqa: F401\u001b[39;00m\n\u001b[0;32m     21\u001b[0m __all__: \u001b[38;5;28mtuple\u001b[39m[\u001b[38;5;28mstr\u001b[39m, \u001b[38;5;241m.\u001b[39m\u001b[38;5;241m.\u001b[39m\u001b[38;5;241m.\u001b[39m] \u001b[38;5;241m=\u001b[39m (\n\u001b[0;32m     22\u001b[0m     \u001b[38;5;124m\"\u001b[39m\u001b[38;5;124mModKMeans\u001b[39m\u001b[38;5;124m\"\u001b[39m,\n\u001b[0;32m     23\u001b[0m     \u001b[38;5;124m\"\u001b[39m\u001b[38;5;124mAAHCluster\u001b[39m\u001b[38;5;124m\"\u001b[39m,\n\u001b[0;32m     24\u001b[0m )\n",
      "File \u001b[1;32mc:\\Users\\Victor\\Documents\\GitHub\\pycrostates\\pycrostates\\cluster\\aahc.py:12\u001b[0m\n\u001b[0;32m      9\u001b[0m \u001b[38;5;28;01mfrom\u001b[39;00m \u001b[38;5;21;01mnumpy\u001b[39;00m\u001b[38;5;21;01m.\u001b[39;00m\u001b[38;5;21;01mtyping\u001b[39;00m \u001b[38;5;28;01mimport\u001b[39;00m NDArray\n\u001b[0;32m     11\u001b[0m \u001b[38;5;28;01mfrom\u001b[39;00m \u001b[38;5;21;01m.\u001b[39;00m\u001b[38;5;21;01m.\u001b[39;00m\u001b[38;5;21;01m_typing\u001b[39;00m \u001b[38;5;28;01mimport\u001b[39;00m Picks\n\u001b[1;32m---> 12\u001b[0m \u001b[38;5;28;01mfrom\u001b[39;00m \u001b[38;5;21;01m.\u001b[39;00m\u001b[38;5;21;01m.\u001b[39;00m\u001b[38;5;21;01mutils\u001b[39;00m \u001b[38;5;28;01mimport\u001b[39;00m _correlation, _gev\n\u001b[0;32m     13\u001b[0m \u001b[38;5;28;01mfrom\u001b[39;00m \u001b[38;5;21;01m.\u001b[39;00m\u001b[38;5;21;01m.\u001b[39;00m\u001b[38;5;21;01mutils\u001b[39;00m\u001b[38;5;21;01m.\u001b[39;00m\u001b[38;5;21;01m_checks\u001b[39;00m \u001b[38;5;28;01mimport\u001b[39;00m _check_type\n\u001b[0;32m     14\u001b[0m \u001b[38;5;28;01mfrom\u001b[39;00m \u001b[38;5;21;01m.\u001b[39;00m\u001b[38;5;21;01m.\u001b[39;00m\u001b[38;5;21;01mutils\u001b[39;00m\u001b[38;5;21;01m.\u001b[39;00m\u001b[38;5;21;01m_docs\u001b[39;00m \u001b[38;5;28;01mimport\u001b[39;00m copy_doc, fill_doc\n",
      "\u001b[1;31mImportError\u001b[0m: cannot import name '_gev' from 'pycrostates.utils' (c:\\Users\\Victor\\Documents\\GitHub\\pycrostates\\pycrostates\\utils\\__init__.py)"
     ]
    }
   ],
   "source": [
    "import mne\n",
    "from mne.io import read_raw_eeglab\n",
    "\n",
    "from pycrostates.cluster import ModKMeans\n",
    "from pycrostates.datasets import lemon\n",
    "\n",
    "\n",
    "# load sample dataset\n",
    "raw_fname = lemon.data_path(subject_id='010017', condition='EC')\n",
    "raw = read_raw_eeglab(raw_fname, preload=True)\n",
    "raw.crop(0, 10)  # crop the dataset to speed up computation\n",
    "raw.pick('eeg')  # select EEG channels\n",
    "#raw.set_eeg_reference('average')  # Apply a common average reference"
   ]
  },
  {
   "cell_type": "code",
   "execution_count": null,
   "metadata": {},
   "outputs": [],
   "source": [
    "epochs = mne.make_fixed_length_epochs(raw, duration=1.0, preload=True)\n",
    "\n",
    "n_clusters = 5\n",
    "ModK = ModKMeans(n_clusters=n_clusters, random_state=42)\n",
    "ModK.fit(epochs, n_jobs=5)\n",
    "\n",
    "# We need to make sure to reject edges as we are working with epochs, so we don't want to take into account transition happening between 2 epochs\n",
    "segmentation = ModK.predict(epochs, reject_edges=True) #"
   ]
  },
  {
   "cell_type": "code",
   "execution_count": 45,
   "metadata": {},
   "outputs": [
    {
     "name": "stderr",
     "output_type": "stream",
     "text": [
      "C:\\Users\\Victor\\AppData\\Local\\Temp\\ipykernel_3492\\3786942813.py:13: FutureWarning: The current default of copy=False will change to copy=True in 1.7. Set the value of copy explicitly to avoid this warning\n",
      "  epochs_data = epochs.get_data()\n"
     ]
    },
    {
     "data": {
      "text/plain": [
       "array([[0.        , 0.44444444, 0.18518519, 0.22222222, 0.14814815],\n",
       "       [0.3442623 , 0.        , 0.19672131, 0.19672131, 0.26229508],\n",
       "       [0.15      , 0.425     , 0.        , 0.15      , 0.275     ],\n",
       "       [0.325     , 0.1       , 0.225     , 0.        , 0.35      ],\n",
       "       [0.3125    , 0.27083333, 0.20833333, 0.20833333, 0.        ]])"
      ]
     },
     "execution_count": 45,
     "metadata": {},
     "output_type": "execute_result"
    }
   ],
   "source": [
    "import numpy as np\n",
    "import scipy.signal\n",
    "from pycrostates.segmentation.transitions import compute_transition_matrix\n",
    "\n",
    "...\n",
    "\n",
    "n_clusters = 5\n",
    "ModK = ModKMeans(n_clusters=n_clusters, random_state=42)\n",
    "ModK.fit(epochs, n_jobs=5)\n",
    "\n",
    "labels = []\n",
    "epochs_data = epochs.get_data()\n",
    "n_sample_per_epoch = epochs_data.shape[2]\n",
    "\n",
    "for e, epoch in enumerate(epochs_data):\n",
    "    epoch_gfp = np.std(epoch, axis=0) # compute gfp\n",
    "    epoch_peaks = scipy.signal.find_peaks(epoch_gfp, distance=3)[0] # find peak location (in the current epoch)\n",
    "    epoch_peaks += e * n_sample_per_epoch # change the peak location to the global index\n",
    "    epoch_peaks_labels = ModK.labels_[epoch_peaks].astype(int) # get the label of the peaks\n",
    "    labels.extend(epoch_peaks_labels)\n",
    "    labels.append(-1) # add -1 at the end of each epoch to make sure compute_transition_matrix ignore transition between epochs\n",
    "\n",
    "labels = np.array(labels)\n",
    "compute_transition_matrix(labels, ModK.n_clusters)"
   ]
  },
  {
   "cell_type": "code",
   "execution_count": 51,
   "metadata": {},
   "outputs": [
    {
     "name": "stderr",
     "output_type": "stream",
     "text": [
      "C:\\Users\\Victor\\AppData\\Local\\Temp\\ipykernel_3492\\1733787885.py:7: FutureWarning: The current default of copy=False will change to copy=True in 1.7. Set the value of copy explicitly to avoid this warning\n",
      "  epochs_data = epochs.get_data()\n"
     ]
    },
    {
     "ename": "AttributeError",
     "evalue": "'list' object has no attribute 'flatten'",
     "output_type": "error",
     "traceback": [
      "\u001b[1;31m---------------------------------------------------------------------------\u001b[0m",
      "\u001b[1;31mAttributeError\u001b[0m                            Traceback (most recent call last)",
      "Cell \u001b[1;32mIn[51], line 17\u001b[0m\n\u001b[0;32m     14\u001b[0m     peaks_index\u001b[38;5;241m.\u001b[39mappend(epoch_peaks)\n\u001b[0;32m     15\u001b[0m     epochs_index\u001b[38;5;241m.\u001b[39mappend(e)\n\u001b[1;32m---> 17\u001b[0m gfp_peaks_data \u001b[38;5;241m=\u001b[39m np\u001b[38;5;241m.\u001b[39mhstack(epochs_data)[:, \u001b[43mpeaks_index\u001b[49m\u001b[38;5;241;43m.\u001b[39;49m\u001b[43mflatten\u001b[49m()]\n\u001b[0;32m     18\u001b[0m raw_gfp \u001b[38;5;241m=\u001b[39m mne\u001b[38;5;241m.\u001b[39mio\u001b[38;5;241m.\u001b[39mRawArray(gfp_peaks_data, epochs\u001b[38;5;241m.\u001b[39minfo)\n",
      "\u001b[1;31mAttributeError\u001b[0m: 'list' object has no attribute 'flatten'"
     ]
    }
   ],
   "source": [
    "n_clusters = 5\n",
    "ModK = ModKMeans(n_clusters=n_clusters, random_state=42)\n",
    "ModK.fit(epochs, n_jobs=5)\n",
    "\n",
    "\n",
    "peaks_index, epochs_index = [], []\n",
    "epochs_data = epochs.get_data()\n",
    "n_sample_per_epoch = epochs_data.shape[2]\n",
    "\n",
    "for e, epoch in enumerate(epochs_data):\n",
    "    epoch_gfp = np.std(epoch, axis=0) # compute gfp\n",
    "    epoch_peaks = scipy.signal.find_peaks(epoch_gfp, distance=3)[0] # find peak location (in the current epoch)\n",
    "    epoch_peaks += e * n_sample_per_epoch # change the peak location to the global index\n",
    "    peaks_index.append(epoch_peaks)\n",
    "    epochs_index.append(e)\n",
    "\n",
    "peak_index = [item for row in matrix for item in row]\n",
    "gfp_peaks_data = np.hstack(epochs_data)[:, peaks_index.flatten()]\n",
    "raw_gfp = mne.io.RawArray(gfp_peaks_data, epochs.info)\n"
   ]
  },
  {
   "cell_type": "code",
   "execution_count": 9,
   "metadata": {},
   "outputs": [
    {
     "name": "stdout",
     "output_type": "stream",
     "text": [
      "Pairwise cosine similarities:\n",
      "[-0.88960069 -0.52650275 -0.44525636 -0.50539258 -0.21907496  0.1474366\n",
      " -0.48859197 -0.39191663  0.017335    0.30847924  0.05141247 -0.46169683\n",
      "  0.10246357  0.51774697  0.71619703 -0.34952813 -0.59010702  0.31178774\n",
      "  0.82140473  0.17823281 -0.6207871  -0.91049516 -0.82097712  0.32606955\n",
      "  0.36015225 -0.66678265 -0.93639654 -0.86016585 -0.65252435 -0.62119827\n",
      " -0.85428709 -0.71636988 -0.83021528 -0.36011766 -0.26945252 -0.42333924\n",
      " -0.59915667  0.24471488 -0.09734654 -0.40165124 -0.20802687  0.10455659\n",
      " -0.45169751 -0.24339344  0.25451128  0.81244125  0.14459244 -0.67411437\n",
      " -0.34308167  0.4091359   0.75020719 -0.53287629 -0.89727877 -0.40925861\n",
      "  0.70889051 -0.27092024 -0.96432043 -0.8853609   0.19048041 -0.09020065\n",
      " -0.70621667]\n"
     ]
    }
   ],
   "source": [
    "import numpy as np\n",
    "\n",
    "def pairwise_cosine_similarity(A, B):\n",
    "    # Compute dot product of all pairs of vectors between A and B\n",
    "    dot_products = np.sum(A * B, axis=1)\n",
    "    \n",
    "    # Compute norms of vectors in A and B\n",
    "    norm_A = np.linalg.norm(A, axis=1)\n",
    "    norm_B = np.linalg.norm(B, axis=1)\n",
    "    \n",
    "    # Compute pairwise cosine similarity\n",
    "    similarities = dot_products / (norm_A * norm_B)\n",
    "    \n",
    "    return similarities\n",
    "\n",
    "# Example usage:\n",
    "# Create two matrices A and B\n",
    "data = raw.get_data()\n",
    "A = data[:, :10]  # Example matrix A\n",
    "B = data[:, 10:20]# Example matrix B\n",
    "\n",
    "A[0] = 1\n",
    "# Compute pairwise cosine similarity between corresponding pairs of vectors from A and B\n",
    "similarities = pairwise_cosine_similarity(A, B)\n",
    "\n",
    "print(\"Pairwise cosine similarities:\")\n",
    "print(similarities)"
   ]
  },
  {
   "cell_type": "code",
   "execution_count": 31,
   "metadata": {},
   "outputs": [
    {
     "data": {
      "text/plain": [
       "(314,)"
      ]
     },
     "execution_count": 31,
     "metadata": {},
     "output_type": "execute_result"
    }
   ],
   "source": [
    "from pycrostates.preprocessing import extract_gfp_peaks\n",
    "\n",
    "\n",
    "n_clusters = 5\n",
    "ModK = ModKMeans(n_clusters=n_clusters, random_state=42)\n",
    "\n",
    "\n",
    "peaks = extract_gfp_peaks(epochs)\n",
    "ModK.fit(peaks, n_jobs=5)\n",
    "\n",
    "data = np.hstack(epochs.get_data())\n",
    "gfp = np.std(data, axis=0)\n",
    "peaks = scipy.signal.find_peaks(gfp)[0]\n",
    "labels = ModK.labels_[peaks].astype(int)\n",
    "\n",
    "compute_transition_matrix(labels, ModK.n_clusters)\n"
   ]
  },
  {
   "cell_type": "code",
   "execution_count": 27,
   "metadata": {},
   "outputs": [
    {
     "data": {
      "text/plain": [
       "array([1, 2, 1, 4, 4, 1, 1, 2, 1, 0, 1, 2, 1, 0, 1, 1, 3, 0, 0, 1, 4, 0,\n",
       "       1, 4, 3, 2, 1, 4, 1, 4, 4, 0, 3, 3, 0, 0, 0, 0, 4, 0, 1, 0, 1, 0,\n",
       "       4, 2, 2, 2, 3, 3, 3, 2, 1, 4, 0, 1, 0, 1, 2, 4, 1, 4, 1, 3, 4, 1,\n",
       "       4, 2, 4, 1, 4, 2, 4, 3, 4, 0, 2, 4, 4, 2, 4, 1, 1, 3, 2, 0, 2, 0,\n",
       "       3, 4, 2, 4, 4, 4, 3, 1, 4, 2, 1, 3, 3, 3, 2, 1, 1, 0, 1, 0, 0, 2,\n",
       "       1, 3, 0, 1, 1, 0, 1, 0, 2, 0, 4, 0, 1, 2, 3, 0, 3, 4, 0, 1, 0, 3,\n",
       "       4, 0, 2, 3, 3, 4, 4, 4, 2, 4, 1, 1, 3, 4, 3, 4, 0, 1, 4, 3, 2, 3,\n",
       "       3, 0, 2, 0, 0, 3, 0, 3, 0, 3, 2, 4, 3, 0, 3, 0, 4, 0, 0, 1, 0, 1,\n",
       "       0, 2, 4, 0, 0, 4, 0, 1, 0, 0, 2, 1, 4, 4, 4, 3, 4, 1, 1, 1, 2, 1,\n",
       "       1, 4, 3, 4, 2, 1, 1, 2, 1, 1, 4, 2, 1, 1, 2, 1, 2, 3, 3, 2, 2, 0,\n",
       "       1, 1, 3, 2, 1, 3, 0, 1, 0, 4, 3, 3, 1, 4, 4, 1, 2, 3, 4, 1, 2, 2,\n",
       "       1, 1, 1, 4, 1, 4, 0, 1, 0, 0, 1, 3, 0, 1, 3, 0, 4, 4, 1, 1, 1, 0,\n",
       "       4, 3, 3, 0, 0, 1, 0, 3, 4, 0, 0, 1, 0, 2, 1, 0, 3, 2, 1, 3, 2, 4,\n",
       "       4, 1, 3, 1, 0, 3, 0, 2, 0, 1, 0, 0, 0, 0, 1, 3, 4, 0, 3, 4, 4, 3,\n",
       "       3, 1, 2, 4, 2, 4], dtype=int64)"
      ]
     },
     "execution_count": 27,
     "metadata": {},
     "output_type": "execute_result"
    }
   ],
   "source": []
  },
  {
   "cell_type": "code",
   "execution_count": null,
   "metadata": {},
   "outputs": [],
   "source": []
  }
 ],
 "metadata": {
  "kernelspec": {
   "display_name": "pycrostates_dev",
   "language": "python",
   "name": "python3"
  },
  "language_info": {
   "codemirror_mode": {
    "name": "ipython",
    "version": 3
   },
   "file_extension": ".py",
   "mimetype": "text/x-python",
   "name": "python",
   "nbconvert_exporter": "python",
   "pygments_lexer": "ipython3",
   "version": "3.11.8"
  }
 },
 "nbformat": 4,
 "nbformat_minor": 2
}
