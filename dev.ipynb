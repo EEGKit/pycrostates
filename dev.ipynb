{
  "cells": [
    {
      "cell_type": "code",
      "execution_count": 1,
      "metadata": {
        "collapsed": false
      },
      "outputs": [
        {
          "name": "stdout",
          "output_type": "stream",
          "text": [
            "Reading C:\\Users\\victor.ferat\\pycrostates_data\\PREPROCESSED_LEMON\\sub-010017_EC.fdt\n",
            "Reading 0 ... 119451  =      0.000 ...   477.804 secs...\n",
            "EEG channel type selected for re-referencing\n",
            "Applying average reference.\n",
            "Applying a custom ('EEG',) reference.\n"
          ]
        },
        {
          "name": "stderr",
          "output_type": "stream",
          "text": [
            "C:\\Users\\victor.ferat\\AppData\\Local\\Temp\\ipykernel_320\\2156721480.py:9: RuntimeWarning: Limited 1 annotation(s) that were expanding outside the data range.\n",
            "  raw = read_raw_eeglab(raw_fname, preload=True)\n",
            "C:\\Users\\victor.ferat\\AppData\\Local\\Temp\\ipykernel_320\\2156721480.py:9: RuntimeWarning: The data contains 'boundary' events, indicating data discontinuities. Be cautious of filtering and epoching around these events.\n",
            "  raw = read_raw_eeglab(raw_fname, preload=True)\n"
          ]
        },
        {
          "data": {
            "text/html": [
              "<details open>\n",
              "    <summary><strong>General</strong></summary>\n",
              "    <table class=\"table table-hover table-striped table-sm table-responsive small\">\n",
              "        <tr>\n",
              "            <th>Measurement date</th>\n",
              "            \n",
              "            <td>Unknown</td>\n",
              "            \n",
              "        </tr>\n",
              "        <tr>\n",
              "            <th>Experimenter</th>\n",
              "            \n",
              "            <td>Unknown</td>\n",
              "            \n",
              "        </tr>\n",
              "        <tr>\n",
              "            <th>Participant</th>\n",
              "            \n",
              "            <td>Unknown</td>\n",
              "            \n",
              "        </tr>\n",
              "    </table>\n",
              "    </details>\n",
              "    <details open>\n",
              "        <summary><strong>Channels</strong></summary>\n",
              "        <table class=\"table table-hover table-striped table-sm table-responsive small\">\n",
              "            <tr>\n",
              "                <th>Digitized points</th>\n",
              "                \n",
              "                <td>64 points</td>\n",
              "                \n",
              "            </tr>\n",
              "            <tr>\n",
              "                <th>Good channels</th>\n",
              "                <td>61 EEG</td>\n",
              "            </tr>\n",
              "            <tr>\n",
              "                <th>Bad channels</th>\n",
              "                <td>None</td>\n",
              "            </tr>\n",
              "            <tr>\n",
              "                <th>EOG channels</th>\n",
              "                <td>Not available</td>\n",
              "            </tr>\n",
              "            <tr>\n",
              "                <th>ECG channels</th>\n",
              "                <td>Not available</td>\n",
              "            </tr>\n",
              "        </table>\n",
              "        </details>\n",
              "        <details open>\n",
              "            <summary><strong>Data</strong></summary>\n",
              "            <table class=\"table table-hover table-striped table-sm table-responsive small\">\n",
              "                \n",
              "                <tr>\n",
              "                    <th>Sampling frequency</th>\n",
              "                    <td>250.00 Hz</td>\n",
              "                </tr>\n",
              "                \n",
              "                \n",
              "                <tr>\n",
              "                    <th>Highpass</th>\n",
              "                    <td>0.00 Hz</td>\n",
              "                </tr>\n",
              "                \n",
              "                \n",
              "                <tr>\n",
              "                    <th>Lowpass</th>\n",
              "                    <td>125.00 Hz</td>\n",
              "                </tr>\n",
              "                \n",
              "                \n",
              "                \n",
              "                <tr>\n",
              "                    <th>Filenames</th>\n",
              "                    <td>sub-010017_EC.fdt</td>\n",
              "                </tr>\n",
              "                \n",
              "                \n",
              "                <tr>\n",
              "                    <th>Duration</th>\n",
              "                    <td>00:00:10 (HH:MM:SS)</td>\n",
              "                </tr>\n",
              "                \n",
              "            </table>\n",
              "            </details>"
            ],
            "text/plain": [
              "<RawEEGLAB | sub-010017_EC.fdt, 61 x 2501 (10.0 s), ~1.2 MB, data loaded>"
            ]
          },
          "execution_count": 1,
          "metadata": {},
          "output_type": "execute_result"
        }
      ],
      "source": [
        "from mne.io import read_raw_eeglab\n",
        "\n",
        "from pycrostates.cluster import ModKMeans\n",
        "from pycrostates.datasets import lemon\n",
        "\n",
        "\n",
        "# load sample dataset\n",
        "raw_fname = lemon.data_path(subject_id='010017', condition='EC')\n",
        "raw = read_raw_eeglab(raw_fname, preload=True)\n",
        "raw.crop(0, 10)  # crop the dataset to speed up computation\n",
        "raw.pick('eeg')  # select EEG channels\n",
        "raw.set_eeg_reference('average')  # Apply a common average reference"
      ]
    },
    {
      "cell_type": "code",
      "execution_count": null,
      "metadata": {
        "collapsed": false
      },
      "outputs": [],
      "source": [
        "n_clusters = 5\n",
        "ModK = ModKMeans(n_clusters=n_clusters, random_state=42)"
      ]
    },
    {
      "cell_type": "code",
      "execution_count": null,
      "metadata": {
        "collapsed": false
      },
      "outputs": [],
      "source": [
        "ModK.fit(raw, n_jobs=5)"
      ]
    },
    {
      "cell_type": "code",
      "execution_count": 3,
      "metadata": {},
      "outputs": [],
      "source": [
        "import numpy as np\n",
        "\n",
        "data = raw.get_data()\n",
        "std = np.std(data, axis=1)\n",
        "rms = np.sqrt(np.mean(data**2, axis=1))\n",
        "np.allclose(std,  rms)"
      ]
    },
    {
      "cell_type": "code",
      "execution_count": 17,
      "metadata": {},
      "outputs": [
        {
          "data": {
            "text/plain": [
              "False"
            ]
          },
          "execution_count": 17,
          "metadata": {},
          "output_type": "execute_result"
        }
      ],
      "source": [
        "data = raw.get_data() + 10\n",
        "std = np.std(data, axis=1)\n",
        "rms = np.sqrt(np.mean(data**2, axis=1))\n",
        "np.allclose(std,  rms)"
      ]
    },
    {
      "cell_type": "code",
      "execution_count": 15,
      "metadata": {},
      "outputs": [
        {
          "name": "stdout",
          "output_type": "stream",
          "text": [
            "0.9547847939902916\n",
            "0.9547847939903947\n"
          ]
        }
      ],
      "source": [
        "from pycrostates.utils import _corr_vectors\n",
        "\n",
        "a = _corr_vectors(data[0], data[1])\n",
        "print(a)\n",
        "a = _corr_vectors(data[0]+10, data[1])\n",
        "print(a)"
      ]
    },
    {
      "cell_type": "code",
      "execution_count": 14,
      "metadata": {},
      "outputs": [
        {
          "name": "stdout",
          "output_type": "stream",
          "text": [
            "0.9547932716947615\n",
            "-0.013669674931094528\n"
          ]
        }
      ],
      "source": [
        "def cosine_similarity(vector1, vector2):\n",
        "    # Normalize the vectors\n",
        "    normalized_vector1 = vector1 / np.linalg.norm(vector1)\n",
        "    normalized_vector2 = vector2 / np.linalg.norm(vector2)\n",
        "    \n",
        "    # Compute dot product\n",
        "    dot_product = np.dot(normalized_vector1, normalized_vector2)\n",
        "    \n",
        "    return dot_product\n",
        "\n",
        "a = cosine_similarity(data[0], data[1])\n",
        "print(a)\n",
        "a = cosine_similarity(data[0]+10, data[1])\n",
        "print(a)"
      ]
    },
    {
      "cell_type": "code",
      "execution_count": 13,
      "metadata": {},
      "outputs": [
        {
          "name": "stdout",
          "output_type": "stream",
          "text": [
            "0.9547932716947615\n",
            "-0.013669674931094495\n"
          ]
        }
      ],
      "source": [
        "def R(x, y):\n",
        "    numerator = np.dot(x.T, y)\n",
        "    denominator = np.sqrt(np.dot(x.T, x)) * np.sqrt(np.dot(y.T, y))\n",
        "    return np.cos(np.arccos(np.clip(numerator / denominator, -1.0, 1.0)))\n",
        "\n",
        "a = R(data[0], data[1])\n",
        "print(a)\n",
        "a = R(data[0]+10, data[1])\n",
        "print(a)"
      ]
    },
    {
      "cell_type": "code",
      "execution_count": 16,
      "metadata": {},
      "outputs": [
        {
          "name": "stdout",
          "output_type": "stream",
          "text": [
            "0.9547932716947615\n",
            "-0.013669674931094522\n"
          ]
        }
      ],
      "source": [
        "\n",
        "def _cosine_similarity(vector1, vector2):\n",
        "    dot_product = np.dot(vector1, vector2) / (np.linalg.norm(vector1) * np.linalg.norm(vector2))\n",
        "    return dot_product\n",
        "\n",
        "a = _cosine_similarity(data[0], data[1])\n",
        "print(a)\n",
        "a = _cosine_similarity(data[0]+10, data[1])\n",
        "print(a)"
      ]
    },
    {
      "cell_type": "code",
      "execution_count": null,
      "metadata": {},
      "outputs": [],
      "source": []
    }
  ],
  "metadata": {
    "kernelspec": {
      "display_name": "Python 3",
      "language": "python",
      "name": "python3"
    },
    "language_info": {
      "codemirror_mode": {
        "name": "ipython",
        "version": 3
      },
      "file_extension": ".py",
      "mimetype": "text/x-python",
      "name": "python",
      "nbconvert_exporter": "python",
      "pygments_lexer": "ipython3",
      "version": "3.11.7"
    }
  },
  "nbformat": 4,
  "nbformat_minor": 0
}
